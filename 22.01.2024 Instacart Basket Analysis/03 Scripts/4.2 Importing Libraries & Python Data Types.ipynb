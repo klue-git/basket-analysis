{
 "cells": [
  {
   "cell_type": "markdown",
   "id": "7ff1e58c",
   "metadata": {},
   "source": [
    "# 00. List of Content\n",
    "\n",
    "### 01. Importing libraries & dataframes\n",
    "### 02. Experimenting with Data Types"
   ]
  },
  {
   "cell_type": "markdown",
   "id": "5d9aacad",
   "metadata": {},
   "source": [
    "# 01. Importing libraries"
   ]
  },
  {
   "cell_type": "code",
   "execution_count": 1,
   "id": "c1abcab8",
   "metadata": {},
   "outputs": [],
   "source": [
    "# Import libraries\n",
    "import pandas as pd\n",
    "import numpy as np\n",
    "import os"
   ]
  },
  {
   "cell_type": "markdown",
   "id": "2b55f079",
   "metadata": {},
   "source": [
    "# 02. Experimenting with Data Types"
   ]
  },
  {
   "cell_type": "markdown",
   "id": "b09bb1cb",
   "metadata": {},
   "source": [
    "Integer: Numeric data without a decimal point (1, 2, 3, etc.)\n",
    "\n",
    "Floating-Point Number: Numeric data with a decimal point (1.34, 4.567, 10.4, etc.)\n",
    "\n",
    "String: Any textual data\n",
    "\n",
    "Boolean: Data used to denote the truthfulness of a condition or statement. It takes two values: True and False\n"
   ]
  },
  {
   "cell_type": "markdown",
   "id": "b72239de",
   "metadata": {},
   "source": [
    "### Integers"
   ]
  },
  {
   "cell_type": "code",
   "execution_count": 2,
   "id": "b5613f74",
   "metadata": {},
   "outputs": [],
   "source": [
    "x = 2"
   ]
  },
  {
   "cell_type": "code",
   "execution_count": 3,
   "id": "72fd9676",
   "metadata": {},
   "outputs": [
    {
     "data": {
      "text/plain": [
       "2"
      ]
     },
     "execution_count": 3,
     "metadata": {},
     "output_type": "execute_result"
    }
   ],
   "source": [
    "x"
   ]
  },
  {
   "cell_type": "code",
   "execution_count": 4,
   "id": "9c546c9b",
   "metadata": {},
   "outputs": [
    {
     "name": "stdout",
     "output_type": "stream",
     "text": [
      "2\n"
     ]
    }
   ],
   "source": [
    "print(x)"
   ]
  },
  {
   "cell_type": "code",
   "execution_count": 15,
   "id": "42c086d7",
   "metadata": {},
   "outputs": [
    {
     "data": {
      "text/plain": [
       "6"
      ]
     },
     "execution_count": 15,
     "metadata": {},
     "output_type": "execute_result"
    }
   ],
   "source": [
    "x+4"
   ]
  },
  {
   "cell_type": "code",
   "execution_count": 16,
   "id": "5bc8beab",
   "metadata": {},
   "outputs": [],
   "source": [
    "x = x + 4"
   ]
  },
  {
   "cell_type": "code",
   "execution_count": 17,
   "id": "5e117741",
   "metadata": {},
   "outputs": [
    {
     "name": "stdout",
     "output_type": "stream",
     "text": [
      "6\n"
     ]
    }
   ],
   "source": [
    "print(x)"
   ]
  },
  {
   "cell_type": "code",
   "execution_count": 5,
   "id": "d46cf586",
   "metadata": {},
   "outputs": [
    {
     "data": {
      "text/plain": [
       "int"
      ]
     },
     "execution_count": 5,
     "metadata": {},
     "output_type": "execute_result"
    }
   ],
   "source": [
    "type(x)"
   ]
  },
  {
   "cell_type": "markdown",
   "id": "36178480",
   "metadata": {},
   "source": [
    "### Floating-Point Numbers"
   ]
  },
  {
   "cell_type": "code",
   "execution_count": 6,
   "id": "da13233c",
   "metadata": {},
   "outputs": [],
   "source": [
    "y = 5.678"
   ]
  },
  {
   "cell_type": "code",
   "execution_count": 7,
   "id": "26d5ac55",
   "metadata": {},
   "outputs": [
    {
     "data": {
      "text/plain": [
       "float"
      ]
     },
     "execution_count": 7,
     "metadata": {},
     "output_type": "execute_result"
    }
   ],
   "source": [
    "type(y)"
   ]
  },
  {
   "cell_type": "markdown",
   "id": "88085261",
   "metadata": {},
   "source": [
    "### Strings"
   ]
  },
  {
   "cell_type": "code",
   "execution_count": 8,
   "id": "f36bbf7a",
   "metadata": {},
   "outputs": [],
   "source": [
    "z = 'Brazil'"
   ]
  },
  {
   "cell_type": "code",
   "execution_count": 9,
   "id": "35ca71a8",
   "metadata": {},
   "outputs": [
    {
     "data": {
      "text/plain": [
       "str"
      ]
     },
     "execution_count": 9,
     "metadata": {},
     "output_type": "execute_result"
    }
   ],
   "source": [
    "type(z)"
   ]
  },
  {
   "cell_type": "code",
   "execution_count": 13,
   "id": "f6e2c717",
   "metadata": {},
   "outputs": [
    {
     "data": {
      "text/plain": [
       "bool"
      ]
     },
     "execution_count": 13,
     "metadata": {},
     "output_type": "execute_result"
    }
   ],
   "source": [
    "type(True)"
   ]
  },
  {
   "cell_type": "code",
   "execution_count": 14,
   "id": "ecd12c05",
   "metadata": {},
   "outputs": [
    {
     "data": {
      "text/plain": [
       "bool"
      ]
     },
     "execution_count": 14,
     "metadata": {},
     "output_type": "execute_result"
    }
   ],
   "source": [
    "type(False)"
   ]
  },
  {
   "cell_type": "code",
   "execution_count": 23,
   "id": "852e057b",
   "metadata": {},
   "outputs": [],
   "source": [
    "a = 'Hello, '"
   ]
  },
  {
   "cell_type": "code",
   "execution_count": 21,
   "id": "4327134d",
   "metadata": {},
   "outputs": [],
   "source": [
    "b = 'Marley'"
   ]
  },
  {
   "cell_type": "code",
   "execution_count": 24,
   "id": "a86f49a8",
   "metadata": {},
   "outputs": [
    {
     "data": {
      "text/plain": [
       "'Hello, Marley'"
      ]
     },
     "execution_count": 24,
     "metadata": {},
     "output_type": "execute_result"
    }
   ],
   "source": [
    "a + b"
   ]
  },
  {
   "cell_type": "code",
   "execution_count": 25,
   "id": "28d91a0d",
   "metadata": {},
   "outputs": [],
   "source": [
    "n = 'potato'"
   ]
  },
  {
   "cell_type": "code",
   "execution_count": 26,
   "id": "68518f02",
   "metadata": {},
   "outputs": [
    {
     "data": {
      "text/plain": [
       "'potatopotatopotatopotatopotatopotatopotatopotatopotatopotatopotatopotato'"
      ]
     },
     "execution_count": 26,
     "metadata": {},
     "output_type": "execute_result"
    }
   ],
   "source": [
    "n * 12"
   ]
  },
  {
   "cell_type": "markdown",
   "id": "c8c19321",
   "metadata": {},
   "source": [
    "### Boolean"
   ]
  },
  {
   "cell_type": "code",
   "execution_count": 27,
   "id": "f40d5000",
   "metadata": {},
   "outputs": [
    {
     "data": {
      "text/plain": [
       "False"
      ]
     },
     "execution_count": 27,
     "metadata": {},
     "output_type": "execute_result"
    }
   ],
   "source": [
    "x == y"
   ]
  },
  {
   "cell_type": "code",
   "execution_count": 28,
   "id": "7430cf52",
   "metadata": {},
   "outputs": [
    {
     "data": {
      "text/plain": [
       "bool"
      ]
     },
     "execution_count": 28,
     "metadata": {},
     "output_type": "execute_result"
    }
   ],
   "source": [
    "type(x == y)"
   ]
  },
  {
   "cell_type": "markdown",
   "id": "1229ae5e",
   "metadata": {},
   "source": [
    "#### Code 3 different ways of reaching a result of 100 by adding or subtracting numeric variables"
   ]
  },
  {
   "cell_type": "code",
   "execution_count": 29,
   "id": "42b1f9b5",
   "metadata": {},
   "outputs": [
    {
     "data": {
      "text/plain": [
       "100"
      ]
     },
     "execution_count": 29,
     "metadata": {},
     "output_type": "execute_result"
    }
   ],
   "source": [
    "10*10"
   ]
  },
  {
   "cell_type": "code",
   "execution_count": 31,
   "id": "24a2c58e",
   "metadata": {},
   "outputs": [
    {
     "data": {
      "text/plain": [
       "100"
      ]
     },
     "execution_count": 31,
     "metadata": {},
     "output_type": "execute_result"
    }
   ],
   "source": [
    "101-1"
   ]
  },
  {
   "cell_type": "code",
   "execution_count": 32,
   "id": "655b6a38",
   "metadata": {},
   "outputs": [
    {
     "data": {
      "text/plain": [
       "100.0"
      ]
     },
     "execution_count": 32,
     "metadata": {},
     "output_type": "execute_result"
    }
   ],
   "source": [
    "200/2"
   ]
  },
  {
   "cell_type": "markdown",
   "id": "edf9b54f",
   "metadata": {},
   "source": [
    "#### Code 2 floating-point variables and divide them by each other"
   ]
  },
  {
   "cell_type": "code",
   "execution_count": 33,
   "id": "bb2768cf",
   "metadata": {},
   "outputs": [],
   "source": [
    "d = 4.2"
   ]
  },
  {
   "cell_type": "code",
   "execution_count": 34,
   "id": "970ca785",
   "metadata": {},
   "outputs": [],
   "source": [
    "e = 8.8"
   ]
  },
  {
   "cell_type": "code",
   "execution_count": 35,
   "id": "e4fab546",
   "metadata": {},
   "outputs": [
    {
     "data": {
      "text/plain": [
       "2.0952380952380953"
      ]
     },
     "execution_count": 35,
     "metadata": {},
     "output_type": "execute_result"
    }
   ],
   "source": [
    "e / d"
   ]
  },
  {
   "cell_type": "markdown",
   "id": "61b97646",
   "metadata": {},
   "source": [
    "#### Construct a short word made of separate strings"
   ]
  },
  {
   "cell_type": "code",
   "execution_count": 36,
   "id": "3a41e923",
   "metadata": {},
   "outputs": [],
   "source": [
    "g = 'bubble'"
   ]
  },
  {
   "cell_type": "code",
   "execution_count": 37,
   "id": "18c16c21",
   "metadata": {},
   "outputs": [],
   "source": [
    "h = 'butt'"
   ]
  },
  {
   "cell_type": "code",
   "execution_count": 38,
   "id": "8cfe2ae0",
   "metadata": {},
   "outputs": [
    {
     "data": {
      "text/plain": [
       "'bubblebutt'"
      ]
     },
     "execution_count": 38,
     "metadata": {},
     "output_type": "execute_result"
    }
   ],
   "source": [
    "g+h"
   ]
  },
  {
   "cell_type": "markdown",
   "id": "a4c21a11",
   "metadata": {},
   "source": [
    "#### Construct 2 short sentences made of separate strings"
   ]
  },
  {
   "cell_type": "code",
   "execution_count": 39,
   "id": "c14b663f",
   "metadata": {},
   "outputs": [],
   "source": [
    "i='My friends reminded me today'"
   ]
  },
  {
   "cell_type": "code",
   "execution_count": 43,
   "id": "5ce60ed5",
   "metadata": {},
   "outputs": [],
   "source": [
    "j=' that my game name in Canasta was Lady '"
   ]
  },
  {
   "cell_type": "code",
   "execution_count": 44,
   "id": "5274dce5",
   "metadata": {},
   "outputs": [
    {
     "data": {
      "text/plain": [
       "'My friends reminded me today that my game name in Canasta was Lady bubblebutt'"
      ]
     },
     "execution_count": 44,
     "metadata": {},
     "output_type": "execute_result"
    }
   ],
   "source": [
    "i+j+g+h"
   ]
  },
  {
   "cell_type": "markdown",
   "id": "3f36dab1",
   "metadata": {},
   "source": [
    "#### Include a command that makes a string appear 100 times"
   ]
  },
  {
   "cell_type": "code",
   "execution_count": 45,
   "id": "b58c952a",
   "metadata": {},
   "outputs": [
    {
     "data": {
      "text/plain": [
       "'My friends reminded me today that my game name in Canasta was Lady bubblebuttMy friends reminded me today that my game name in Canasta was Lady bubblebuttMy friends reminded me today that my game name in Canasta was Lady bubblebuttMy friends reminded me today that my game name in Canasta was Lady bubblebuttMy friends reminded me today that my game name in Canasta was Lady bubblebuttMy friends reminded me today that my game name in Canasta was Lady bubblebuttMy friends reminded me today that my game name in Canasta was Lady bubblebuttMy friends reminded me today that my game name in Canasta was Lady bubblebuttMy friends reminded me today that my game name in Canasta was Lady bubblebuttMy friends reminded me today that my game name in Canasta was Lady bubblebuttMy friends reminded me today that my game name in Canasta was Lady bubblebuttMy friends reminded me today that my game name in Canasta was Lady bubblebuttMy friends reminded me today that my game name in Canasta was Lady bubblebuttMy friends reminded me today that my game name in Canasta was Lady bubblebuttMy friends reminded me today that my game name in Canasta was Lady bubblebuttMy friends reminded me today that my game name in Canasta was Lady bubblebuttMy friends reminded me today that my game name in Canasta was Lady bubblebuttMy friends reminded me today that my game name in Canasta was Lady bubblebuttMy friends reminded me today that my game name in Canasta was Lady bubblebuttMy friends reminded me today that my game name in Canasta was Lady bubblebuttMy friends reminded me today that my game name in Canasta was Lady bubblebuttMy friends reminded me today that my game name in Canasta was Lady bubblebuttMy friends reminded me today that my game name in Canasta was Lady bubblebuttMy friends reminded me today that my game name in Canasta was Lady bubblebuttMy friends reminded me today that my game name in Canasta was Lady bubblebuttMy friends reminded me today that my game name in Canasta was Lady bubblebuttMy friends reminded me today that my game name in Canasta was Lady bubblebuttMy friends reminded me today that my game name in Canasta was Lady bubblebuttMy friends reminded me today that my game name in Canasta was Lady bubblebuttMy friends reminded me today that my game name in Canasta was Lady bubblebuttMy friends reminded me today that my game name in Canasta was Lady bubblebuttMy friends reminded me today that my game name in Canasta was Lady bubblebuttMy friends reminded me today that my game name in Canasta was Lady bubblebuttMy friends reminded me today that my game name in Canasta was Lady bubblebuttMy friends reminded me today that my game name in Canasta was Lady bubblebuttMy friends reminded me today that my game name in Canasta was Lady bubblebuttMy friends reminded me today that my game name in Canasta was Lady bubblebuttMy friends reminded me today that my game name in Canasta was Lady bubblebuttMy friends reminded me today that my game name in Canasta was Lady bubblebuttMy friends reminded me today that my game name in Canasta was Lady bubblebuttMy friends reminded me today that my game name in Canasta was Lady bubblebuttMy friends reminded me today that my game name in Canasta was Lady bubblebuttMy friends reminded me today that my game name in Canasta was Lady bubblebuttMy friends reminded me today that my game name in Canasta was Lady bubblebuttMy friends reminded me today that my game name in Canasta was Lady bubblebuttMy friends reminded me today that my game name in Canasta was Lady bubblebuttMy friends reminded me today that my game name in Canasta was Lady bubblebuttMy friends reminded me today that my game name in Canasta was Lady bubblebuttMy friends reminded me today that my game name in Canasta was Lady bubblebuttMy friends reminded me today that my game name in Canasta was Lady bubblebuttMy friends reminded me today that my game name in Canasta was Lady bubblebuttMy friends reminded me today that my game name in Canasta was Lady bubblebuttMy friends reminded me today that my game name in Canasta was Lady bubblebuttMy friends reminded me today that my game name in Canasta was Lady bubblebuttMy friends reminded me today that my game name in Canasta was Lady bubblebuttMy friends reminded me today that my game name in Canasta was Lady bubblebuttMy friends reminded me today that my game name in Canasta was Lady bubblebuttMy friends reminded me today that my game name in Canasta was Lady bubblebuttMy friends reminded me today that my game name in Canasta was Lady bubblebuttMy friends reminded me today that my game name in Canasta was Lady bubblebuttMy friends reminded me today that my game name in Canasta was Lady bubblebuttMy friends reminded me today that my game name in Canasta was Lady bubblebuttMy friends reminded me today that my game name in Canasta was Lady bubblebuttMy friends reminded me today that my game name in Canasta was Lady bubblebuttMy friends reminded me today that my game name in Canasta was Lady bubblebuttMy friends reminded me today that my game name in Canasta was Lady bubblebuttMy friends reminded me today that my game name in Canasta was Lady bubblebuttMy friends reminded me today that my game name in Canasta was Lady bubblebuttMy friends reminded me today that my game name in Canasta was Lady bubblebuttMy friends reminded me today that my game name in Canasta was Lady bubblebuttMy friends reminded me today that my game name in Canasta was Lady bubblebuttMy friends reminded me today that my game name in Canasta was Lady bubblebuttMy friends reminded me today that my game name in Canasta was Lady bubblebuttMy friends reminded me today that my game name in Canasta was Lady bubblebuttMy friends reminded me today that my game name in Canasta was Lady bubblebuttMy friends reminded me today that my game name in Canasta was Lady bubblebuttMy friends reminded me today that my game name in Canasta was Lady bubblebuttMy friends reminded me today that my game name in Canasta was Lady bubblebuttMy friends reminded me today that my game name in Canasta was Lady bubblebuttMy friends reminded me today that my game name in Canasta was Lady bubblebuttMy friends reminded me today that my game name in Canasta was Lady bubblebuttMy friends reminded me today that my game name in Canasta was Lady bubblebuttMy friends reminded me today that my game name in Canasta was Lady bubblebuttMy friends reminded me today that my game name in Canasta was Lady bubblebuttMy friends reminded me today that my game name in Canasta was Lady bubblebuttMy friends reminded me today that my game name in Canasta was Lady bubblebuttMy friends reminded me today that my game name in Canasta was Lady bubblebuttMy friends reminded me today that my game name in Canasta was Lady bubblebuttMy friends reminded me today that my game name in Canasta was Lady bubblebuttMy friends reminded me today that my game name in Canasta was Lady bubblebuttMy friends reminded me today that my game name in Canasta was Lady bubblebuttMy friends reminded me today that my game name in Canasta was Lady bubblebuttMy friends reminded me today that my game name in Canasta was Lady bubblebuttMy friends reminded me today that my game name in Canasta was Lady bubblebuttMy friends reminded me today that my game name in Canasta was Lady bubblebuttMy friends reminded me today that my game name in Canasta was Lady bubblebuttMy friends reminded me today that my game name in Canasta was Lady bubblebuttMy friends reminded me today that my game name in Canasta was Lady bubblebuttMy friends reminded me today that my game name in Canasta was Lady bubblebuttMy friends reminded me today that my game name in Canasta was Lady bubblebutt'"
      ]
     },
     "execution_count": 45,
     "metadata": {},
     "output_type": "execute_result"
    }
   ],
   "source": [
    "(i+j+g+h)*100"
   ]
  },
  {
   "cell_type": "code",
   "execution_count": null,
   "id": "7d6ba707",
   "metadata": {},
   "outputs": [],
   "source": []
  }
 ],
 "metadata": {
  "kernelspec": {
   "display_name": "Python 3 (ipykernel)",
   "language": "python",
   "name": "python3"
  },
  "language_info": {
   "codemirror_mode": {
    "name": "ipython",
    "version": 3
   },
   "file_extension": ".py",
   "mimetype": "text/x-python",
   "name": "python",
   "nbconvert_exporter": "python",
   "pygments_lexer": "ipython3",
   "version": "3.11.5"
  }
 },
 "nbformat": 4,
 "nbformat_minor": 5
}
