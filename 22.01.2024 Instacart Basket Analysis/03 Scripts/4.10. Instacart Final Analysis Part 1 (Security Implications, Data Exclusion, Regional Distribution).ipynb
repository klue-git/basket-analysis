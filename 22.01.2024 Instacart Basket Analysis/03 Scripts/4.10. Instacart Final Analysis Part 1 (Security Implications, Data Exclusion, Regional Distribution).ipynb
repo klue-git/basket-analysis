{
 "cells": [
  {
   "cell_type": "markdown",
   "id": "31adf3df",
   "metadata": {},
   "source": [
    "# 00. Table of Content\n",
    "\n",
    "### 01. Importing Libraries & Dataframes\n",
    "### 02. Security Implications\n",
    "### 03. Customer Behaviour in different Geographic Areas\n",
    "### 04. Exclude low-activity Customers from further Analysis"
   ]
  },
  {
   "cell_type": "markdown",
   "id": "91f84150",
   "metadata": {},
   "source": [
    "# 01. Importing Libraries & Dataframes"
   ]
  },
  {
   "cell_type": "code",
   "execution_count": 2,
   "id": "95b8e84b",
   "metadata": {},
   "outputs": [],
   "source": [
    "import pandas as pd\n",
    "import numpy as np\n",
    "import os\n",
    "import matplotlib.pyplot as plt\n",
    "import seaborn as sns\n",
    "import scipy"
   ]
  },
  {
   "cell_type": "code",
   "execution_count": 3,
   "id": "5485e379",
   "metadata": {},
   "outputs": [],
   "source": [
    "# Create path\n",
    "path = r'C:\\Users\\krist\\22.01.2024 Instacart Basket Analysis'"
   ]
  },
  {
   "cell_type": "code",
   "execution_count": 4,
   "id": "eac205c3",
   "metadata": {},
   "outputs": [],
   "source": [
    "# Import last dataframe\n",
    "ords_prods_all = pd.read_pickle(os.path.join(path, '02 Data', 'Prepared Data', 'orders_products_all.pkl'))"
   ]
  },
  {
   "cell_type": "markdown",
   "id": "d0b70de8",
   "metadata": {},
   "source": [
    "# 02. Security Implications "
   ]
  },
  {
   "cell_type": "code",
   "execution_count": 5,
   "id": "a119bc25",
   "metadata": {},
   "outputs": [
    {
     "data": {
      "text/plain": [
       "order_id                           object\n",
       "user_id                            object\n",
       "order_number                        int64\n",
       "order_day_of_week                   int64\n",
       "order_hour_of_day                   int64\n",
       "days_since_prior_order            float64\n",
       "product_id                         object\n",
       "add_to_cart_order                   int64\n",
       "reordered                           int64\n",
       "product_name                       object\n",
       "aisle_id                           object\n",
       "department_id                      object\n",
       "prices                            float64\n",
       "busiest_day                        object\n",
       "busiest_days                       object\n",
       "busiest_period_of_day              object\n",
       "max_order                           int64\n",
       "loyalty_flag                       object\n",
       "mean_product_price                float64\n",
       "spending_flag                      object\n",
       "median_days_since_prior_order     float64\n",
       "order_frequency_flag               object\n",
       "first_name                         object\n",
       "last_name                          object\n",
       "gender                             object\n",
       "state                              object\n",
       "age                                 int64\n",
       "date_joined                        object\n",
       "n_dependants                        int64\n",
       "fam_status                         object\n",
       "income                              int64\n",
       "department                         object\n",
       "_merge                           category\n",
       "dtype: object"
      ]
     },
     "execution_count": 5,
     "metadata": {},
     "output_type": "execute_result"
    }
   ],
   "source": [
    "ords_prods_all.dtypes"
   ]
  },
  {
   "cell_type": "code",
   "execution_count": 6,
   "id": "4e4321fa",
   "metadata": {},
   "outputs": [],
   "source": [
    "# data contains personally identifiable information (PII) in the form of 'name' in combination with 'age'. \n",
    "# Accordingly it needs to be confirmed that the storage, usage and sharing of data is GDPR compliant.\n",
    "# In case it is not and since the info is not relevant to the final analysis - I'll drop the name columns from the data frame before performing the rest of the analysis.\n",
    "ords_prods_all = ords_prods_all.drop(columns=['first_name','last_name'])"
   ]
  },
  {
   "cell_type": "code",
   "execution_count": 7,
   "id": "baf67179",
   "metadata": {},
   "outputs": [
    {
     "data": {
      "text/plain": [
       "order_id                           object\n",
       "user_id                            object\n",
       "order_number                        int64\n",
       "order_day_of_week                   int64\n",
       "order_hour_of_day                   int64\n",
       "days_since_prior_order            float64\n",
       "product_id                         object\n",
       "add_to_cart_order                   int64\n",
       "reordered                           int64\n",
       "product_name                       object\n",
       "aisle_id                           object\n",
       "department_id                      object\n",
       "prices                            float64\n",
       "busiest_day                        object\n",
       "busiest_days                       object\n",
       "busiest_period_of_day              object\n",
       "max_order                           int64\n",
       "loyalty_flag                       object\n",
       "mean_product_price                float64\n",
       "spending_flag                      object\n",
       "median_days_since_prior_order     float64\n",
       "order_frequency_flag               object\n",
       "gender                             object\n",
       "state                              object\n",
       "age                                 int64\n",
       "date_joined                        object\n",
       "n_dependants                        int64\n",
       "fam_status                         object\n",
       "income                              int64\n",
       "department                         object\n",
       "_merge                           category\n",
       "dtype: object"
      ]
     },
     "execution_count": 7,
     "metadata": {},
     "output_type": "execute_result"
    }
   ],
   "source": [
    "# Check new dataframe\n",
    "ords_prods_all.dtypes"
   ]
  },
  {
   "cell_type": "markdown",
   "id": "030fecb4",
   "metadata": {},
   "source": [
    "# 03. Customer Behaviour in different Geographic Areas"
   ]
  },
  {
   "cell_type": "markdown",
   "id": "4f4887a4",
   "metadata": {},
   "source": [
    "## Create regional segmentation of data"
   ]
  },
  {
   "cell_type": "code",
   "execution_count": 8,
   "id": "94183008",
   "metadata": {},
   "outputs": [
    {
     "data": {
      "text/plain": [
       "state\n",
       "Pennsylvania            667082\n",
       "California              659783\n",
       "Rhode Island            656913\n",
       "Georgia                 656389\n",
       "New Mexico              654494\n",
       "Arizona                 653964\n",
       "North Carolina          651900\n",
       "Oklahoma                651739\n",
       "Alaska                  648495\n",
       "Minnesota               647825\n",
       "Massachusetts           646358\n",
       "Wyoming                 644255\n",
       "Virginia                641421\n",
       "Missouri                640732\n",
       "Texas                   640394\n",
       "Colorado                639280\n",
       "Maine                   638583\n",
       "North Dakota            638491\n",
       "Alabama                 638003\n",
       "Kansas                  637538\n",
       "Louisiana               637482\n",
       "Delaware                637024\n",
       "South Carolina          636754\n",
       "Oregon                  636425\n",
       "Arkansas                636144\n",
       "Nevada                  636139\n",
       "New York                635983\n",
       "Montana                 635265\n",
       "South Dakota            633772\n",
       "Illinois                633024\n",
       "Hawaii                  632901\n",
       "Washington              632852\n",
       "Mississippi             632675\n",
       "Kentucky                632490\n",
       "Michigan                630928\n",
       "Florida                 629027\n",
       "Ohio                    628319\n",
       "Wisconsin               628108\n",
       "New Jersey              627692\n",
       "Indiana                 627282\n",
       "Maryland                626579\n",
       "Nebraska                625813\n",
       "Iowa                    625493\n",
       "Connecticut             623022\n",
       "Tennessee               617873\n",
       "New Hampshire           615378\n",
       "District of Columbia    613695\n",
       "West Virginia           612296\n",
       "Utah                    611941\n",
       "Vermont                 611725\n",
       "Idaho                   607119\n",
       "Name: count, dtype: int64"
      ]
     },
     "execution_count": 8,
     "metadata": {},
     "output_type": "execute_result"
    }
   ],
   "source": [
    "# List states\n",
    "ords_prods_all['state'].value_counts()"
   ]
  },
  {
   "cell_type": "code",
   "execution_count": 9,
   "id": "863939aa",
   "metadata": {},
   "outputs": [],
   "source": [
    "# Create 'region' column and populate with states. Start with 'Northeast'\n",
    "ords_prods_all.loc[ords_prods_all['state'].isin(['Maine','New Hampshire','Vermont', 'Massachusetts', 'Rhode Island','Connecticut','New York', 'Pennsylvania', 'New Jersey']), 'region'] = 'Northeast'"
   ]
  },
  {
   "cell_type": "code",
   "execution_count": 10,
   "id": "b1729757",
   "metadata": {},
   "outputs": [
    {
     "data": {
      "text/plain": [
       "state          region   \n",
       "Pennsylvania   Northeast    667082\n",
       "Rhode Island   Northeast    656913\n",
       "Massachusetts  Northeast    646358\n",
       "Maine          Northeast    638583\n",
       "New York       Northeast    635983\n",
       "New Jersey     Northeast    627692\n",
       "Connecticut    Northeast    623022\n",
       "New Hampshire  Northeast    615378\n",
       "Vermont        Northeast    611725\n",
       "Name: count, dtype: int64"
      ]
     },
     "execution_count": 10,
     "metadata": {},
     "output_type": "execute_result"
    }
   ],
   "source": [
    "# Check values 'Northeast' --> 9\n",
    "ords_prods_all.loc[ords_prods_all['region'] == 'Northeast', ['state', 'region']].value_counts()"
   ]
  },
  {
   "cell_type": "code",
   "execution_count": 11,
   "id": "7a18354b",
   "metadata": {},
   "outputs": [],
   "source": [
    "# Create 'region' column and populate with states. Region is 'Midwest'\n",
    "ords_prods_all.loc[ords_prods_all['state'].isin(['Wisconsin','Michigan','Illinois', 'Indiana', 'Ohio','North Dakota','South Dakota', 'Nebraska', 'Kansas', 'Minnesota', 'Iowa', 'Missouri']), 'region'] = 'Midwest'"
   ]
  },
  {
   "cell_type": "code",
   "execution_count": 12,
   "id": "8fdf7f88",
   "metadata": {},
   "outputs": [
    {
     "data": {
      "text/plain": [
       "state         region \n",
       "Minnesota     Midwest    647825\n",
       "Missouri      Midwest    640732\n",
       "North Dakota  Midwest    638491\n",
       "Kansas        Midwest    637538\n",
       "South Dakota  Midwest    633772\n",
       "Illinois      Midwest    633024\n",
       "Michigan      Midwest    630928\n",
       "Ohio          Midwest    628319\n",
       "Wisconsin     Midwest    628108\n",
       "Indiana       Midwest    627282\n",
       "Nebraska      Midwest    625813\n",
       "Iowa          Midwest    625493\n",
       "Name: count, dtype: int64"
      ]
     },
     "execution_count": 12,
     "metadata": {},
     "output_type": "execute_result"
    }
   ],
   "source": [
    "# Check values 'Midwest' --> 12\n",
    "ords_prods_all.loc[ords_prods_all['region'] == 'Midwest', ['state', 'region']].value_counts()"
   ]
  },
  {
   "cell_type": "code",
   "execution_count": 13,
   "id": "fdec8d69",
   "metadata": {},
   "outputs": [],
   "source": [
    "# Create 'region' column and populate with states. Region is South\n",
    "ords_prods_all.loc[ords_prods_all['state'].isin(['Delaware','Maryland','District of Columbia', 'Virginia', 'West Virginia','North Carolina','South Carolina', 'Georgia', 'Florida', 'Kentucky', 'Tennessee', 'Mississippi', 'Alabama', 'Oklahoma', 'Texas', 'Arkansas', 'Louisiana']), 'region'] = 'South'"
   ]
  },
  {
   "cell_type": "code",
   "execution_count": 14,
   "id": "92afa6c8",
   "metadata": {},
   "outputs": [
    {
     "data": {
      "text/plain": [
       "state                 region\n",
       "Georgia               South     656389\n",
       "North Carolina        South     651900\n",
       "Oklahoma              South     651739\n",
       "Virginia              South     641421\n",
       "Texas                 South     640394\n",
       "Alabama               South     638003\n",
       "Louisiana             South     637482\n",
       "Delaware              South     637024\n",
       "South Carolina        South     636754\n",
       "Arkansas              South     636144\n",
       "Mississippi           South     632675\n",
       "Kentucky              South     632490\n",
       "Florida               South     629027\n",
       "Maryland              South     626579\n",
       "Tennessee             South     617873\n",
       "District of Columbia  South     613695\n",
       "West Virginia         South     612296\n",
       "Name: count, dtype: int64"
      ]
     },
     "execution_count": 14,
     "metadata": {},
     "output_type": "execute_result"
    }
   ],
   "source": [
    "# Check values 'South' --> 17\n",
    "ords_prods_all.loc[ords_prods_all['region'] == 'South', ['state', 'region']].value_counts()"
   ]
  },
  {
   "cell_type": "code",
   "execution_count": 15,
   "id": "e9be7a26",
   "metadata": {},
   "outputs": [],
   "source": [
    "# Create 'region' column and populate with states. Region is West\n",
    "ords_prods_all.loc[ords_prods_all['state'].isin(['Idaho', 'Montana', 'Wyoming', 'Nevada', 'Utah','Colorado', 'Arizona', 'New Mexico', 'Alaska', 'Washington', 'Oregon', 'California', 'Hawaii']), 'region'] = 'West'"
   ]
  },
  {
   "cell_type": "code",
   "execution_count": 16,
   "id": "c7a5d3dc",
   "metadata": {},
   "outputs": [
    {
     "data": {
      "text/plain": [
       "state       region\n",
       "California  West      659783\n",
       "New Mexico  West      654494\n",
       "Arizona     West      653964\n",
       "Alaska      West      648495\n",
       "Wyoming     West      644255\n",
       "Colorado    West      639280\n",
       "Oregon      West      636425\n",
       "Nevada      West      636139\n",
       "Montana     West      635265\n",
       "Hawaii      West      632901\n",
       "Washington  West      632852\n",
       "Utah        West      611941\n",
       "Idaho       West      607119\n",
       "Name: count, dtype: int64"
      ]
     },
     "execution_count": 16,
     "metadata": {},
     "output_type": "execute_result"
    }
   ],
   "source": [
    "# Check values 'West' --> 13\n",
    "ords_prods_all.loc[ords_prods_all['region'] == 'West', ['state', 'region']].value_counts()"
   ]
  },
  {
   "cell_type": "code",
   "execution_count": 17,
   "id": "ee9b347a",
   "metadata": {},
   "outputs": [
    {
     "data": {
      "text/plain": [
       "Series([], Name: count, dtype: int64)"
      ]
     },
     "execution_count": 17,
     "metadata": {},
     "output_type": "execute_result"
    }
   ],
   "source": [
    "# Check for missing regions\n",
    "ords_prods_all.loc[ords_prods_all['region'] == 'nan', ['state', 'region']].value_counts()"
   ]
  },
  {
   "cell_type": "markdown",
   "id": "31ba654a",
   "metadata": {},
   "source": [
    "## Question: Is there a difference in spending habits between the different US regions?"
   ]
  },
  {
   "cell_type": "code",
   "execution_count": 18,
   "id": "c2b450f3",
   "metadata": {},
   "outputs": [],
   "source": [
    "# create crosstab for region and spending flag\n",
    "crosstab = pd.crosstab(ords_prods_all['region'], ords_prods_all['spending_flag'], dropna = False)"
   ]
  },
  {
   "cell_type": "code",
   "execution_count": 19,
   "id": "aca7f421",
   "metadata": {},
   "outputs": [
    {
     "data": {
      "text/html": [
       "<div>\n",
       "<style scoped>\n",
       "    .dataframe tbody tr th:only-of-type {\n",
       "        vertical-align: middle;\n",
       "    }\n",
       "\n",
       "    .dataframe tbody tr th {\n",
       "        vertical-align: top;\n",
       "    }\n",
       "\n",
       "    .dataframe thead th {\n",
       "        text-align: right;\n",
       "    }\n",
       "</style>\n",
       "<table border=\"1\" class=\"dataframe\">\n",
       "  <thead>\n",
       "    <tr style=\"text-align: right;\">\n",
       "      <th>spending_flag</th>\n",
       "      <th>high spender</th>\n",
       "      <th>low spender</th>\n",
       "    </tr>\n",
       "    <tr>\n",
       "      <th>region</th>\n",
       "      <th></th>\n",
       "      <th></th>\n",
       "    </tr>\n",
       "  </thead>\n",
       "  <tbody>\n",
       "    <tr>\n",
       "      <th>Midwest</th>\n",
       "      <td>29007</td>\n",
       "      <td>7568318</td>\n",
       "    </tr>\n",
       "    <tr>\n",
       "      <th>Northeast</th>\n",
       "      <td>18600</td>\n",
       "      <td>5704136</td>\n",
       "    </tr>\n",
       "    <tr>\n",
       "      <th>South</th>\n",
       "      <td>40412</td>\n",
       "      <td>10751473</td>\n",
       "    </tr>\n",
       "    <tr>\n",
       "      <th>West</th>\n",
       "      <td>31106</td>\n",
       "      <td>8261807</td>\n",
       "    </tr>\n",
       "  </tbody>\n",
       "</table>\n",
       "</div>"
      ],
      "text/plain": [
       "spending_flag  high spender  low spender\n",
       "region                                  \n",
       "Midwest               29007      7568318\n",
       "Northeast             18600      5704136\n",
       "South                 40412     10751473\n",
       "West                  31106      8261807"
      ]
     },
     "execution_count": 19,
     "metadata": {},
     "output_type": "execute_result"
    }
   ],
   "source": [
    "# Check crosstab\n",
    "crosstab"
   ]
  },
  {
   "cell_type": "code",
   "execution_count": 20,
   "id": "fc06c992",
   "metadata": {},
   "outputs": [],
   "source": [
    "# Calculate percentage of high spenders\n",
    "crosstab['percentage_high_spender'] = crosstab['high spender'] / (crosstab['high spender'] + crosstab['low spender']) * 100\n"
   ]
  },
  {
   "cell_type": "code",
   "execution_count": 21,
   "id": "8c940d16",
   "metadata": {},
   "outputs": [
    {
     "data": {
      "text/html": [
       "<div>\n",
       "<style scoped>\n",
       "    .dataframe tbody tr th:only-of-type {\n",
       "        vertical-align: middle;\n",
       "    }\n",
       "\n",
       "    .dataframe tbody tr th {\n",
       "        vertical-align: top;\n",
       "    }\n",
       "\n",
       "    .dataframe thead th {\n",
       "        text-align: right;\n",
       "    }\n",
       "</style>\n",
       "<table border=\"1\" class=\"dataframe\">\n",
       "  <thead>\n",
       "    <tr style=\"text-align: right;\">\n",
       "      <th>spending_flag</th>\n",
       "      <th>high spender</th>\n",
       "      <th>low spender</th>\n",
       "      <th>percentage_high_spender</th>\n",
       "    </tr>\n",
       "    <tr>\n",
       "      <th>region</th>\n",
       "      <th></th>\n",
       "      <th></th>\n",
       "      <th></th>\n",
       "    </tr>\n",
       "  </thead>\n",
       "  <tbody>\n",
       "    <tr>\n",
       "      <th>Midwest</th>\n",
       "      <td>29007</td>\n",
       "      <td>7568318</td>\n",
       "      <td>0.381805</td>\n",
       "    </tr>\n",
       "    <tr>\n",
       "      <th>Northeast</th>\n",
       "      <td>18600</td>\n",
       "      <td>5704136</td>\n",
       "      <td>0.325019</td>\n",
       "    </tr>\n",
       "    <tr>\n",
       "      <th>South</th>\n",
       "      <td>40412</td>\n",
       "      <td>10751473</td>\n",
       "      <td>0.374467</td>\n",
       "    </tr>\n",
       "    <tr>\n",
       "      <th>West</th>\n",
       "      <td>31106</td>\n",
       "      <td>8261807</td>\n",
       "      <td>0.375091</td>\n",
       "    </tr>\n",
       "  </tbody>\n",
       "</table>\n",
       "</div>"
      ],
      "text/plain": [
       "spending_flag  high spender  low spender  percentage_high_spender\n",
       "region                                                           \n",
       "Midwest               29007      7568318                 0.381805\n",
       "Northeast             18600      5704136                 0.325019\n",
       "South                 40412     10751473                 0.374467\n",
       "West                  31106      8261807                 0.375091"
      ]
     },
     "execution_count": 21,
     "metadata": {},
     "output_type": "execute_result"
    }
   ],
   "source": [
    "# Check extra column\n",
    "crosstab"
   ]
  },
  {
   "cell_type": "code",
   "execution_count": 22,
   "id": "7584eddd",
   "metadata": {},
   "outputs": [],
   "source": [
    "# Copy table to excel\n",
    "crosstab.to_clipboard()"
   ]
  },
  {
   "cell_type": "markdown",
   "id": "00c58ac3",
   "metadata": {},
   "source": [
    "#### Answer: While the South has the most high spending customers in terms of count with >40K, the Midwest has the highest percentage of high spenders among the total Midwest customer base with 0.38%. The Northeast has both the lowest count and lowest percentage of high spenders among all 4 regions."
   ]
  },
  {
   "cell_type": "code",
   "execution_count": 23,
   "id": "c2487e50",
   "metadata": {},
   "outputs": [],
   "source": [
    "# Drop extra column for visual\n",
    "crosstab = crosstab.drop(columns=['percentage_high_spender'])"
   ]
  },
  {
   "cell_type": "code",
   "execution_count": 24,
   "id": "5cced3cd",
   "metadata": {},
   "outputs": [
    {
     "data": {
      "image/png": "[encoded data removed]",
      "text/plain": [
       "<Figure size 640x480 with 1 Axes>"
      ]
     },
     "metadata": {},
     "output_type": "display_data"
    }
   ],
   "source": [
    "# Create Bar Chart on crosstab\n",
    "Spending_per_region = crosstab.plot.bar()"
   ]
  },
  {
   "cell_type": "code",
   "execution_count": 25,
   "id": "7798e45c",
   "metadata": {},
   "outputs": [
    {
     "data": {
      "text/plain": [
       "Text(0.5, 1.0, 'Spender distribution per US region')"
      ]
     },
     "execution_count": 25,
     "metadata": {},
     "output_type": "execute_result"
    }
   ],
   "source": [
    "# Set axis labels & title\n",
    "Spending_per_region.set_xlabel(\"region\")\n",
    "Spending_per_region.set_ylabel(\"number of orders\")\n",
    "Spending_per_region.set_title(\"Spender distribution per US region\")"
   ]
  },
  {
   "cell_type": "code",
   "execution_count": 26,
   "id": "5fb0fcaf",
   "metadata": {},
   "outputs": [
    {
     "data": {
      "text/plain": [
       "<Figure size 640x480 with 0 Axes>"
      ]
     },
     "metadata": {},
     "output_type": "display_data"
    }
   ],
   "source": [
    "plt.tight_layout()"
   ]
  },
  {
   "cell_type": "code",
   "execution_count": 39,
   "id": "49f7339e",
   "metadata": {},
   "outputs": [],
   "source": [
    "# Export bar chart as image file\n",
    "Spending_per_region.figure.savefig(os.path.join(path, '04 Analysis', 'Visualisations', 'fig_9.png'),bbox_inches = 'tight')"
   ]
  },
  {
   "cell_type": "markdown",
   "id": "7c42497a",
   "metadata": {},
   "source": [
    "# 04. Exclude low-activity customers from further analysis"
   ]
  },
  {
   "cell_type": "code",
   "execution_count": 28,
   "id": "94512bb6",
   "metadata": {},
   "outputs": [
    {
     "data": {
      "text/html": [
       "<div>\n",
       "<style scoped>\n",
       "    .dataframe tbody tr th:only-of-type {\n",
       "        vertical-align: middle;\n",
       "    }\n",
       "\n",
       "    .dataframe tbody tr th {\n",
       "        vertical-align: top;\n",
       "    }\n",
       "\n",
       "    .dataframe thead th {\n",
       "        text-align: right;\n",
       "    }\n",
       "</style>\n",
       "<table border=\"1\" class=\"dataframe\">\n",
       "  <thead>\n",
       "    <tr style=\"text-align: right;\">\n",
       "      <th></th>\n",
       "      <th>user_id</th>\n",
       "      <th>order_number</th>\n",
       "      <th>max_order</th>\n",
       "    </tr>\n",
       "  </thead>\n",
       "  <tbody>\n",
       "    <tr>\n",
       "      <th>0</th>\n",
       "      <td>1</td>\n",
       "      <td>1</td>\n",
       "      <td>10</td>\n",
       "    </tr>\n",
       "    <tr>\n",
       "      <th>1</th>\n",
       "      <td>1</td>\n",
       "      <td>2</td>\n",
       "      <td>10</td>\n",
       "    </tr>\n",
       "    <tr>\n",
       "      <th>2</th>\n",
       "      <td>1</td>\n",
       "      <td>3</td>\n",
       "      <td>10</td>\n",
       "    </tr>\n",
       "    <tr>\n",
       "      <th>3</th>\n",
       "      <td>1</td>\n",
       "      <td>4</td>\n",
       "      <td>10</td>\n",
       "    </tr>\n",
       "    <tr>\n",
       "      <th>4</th>\n",
       "      <td>1</td>\n",
       "      <td>5</td>\n",
       "      <td>10</td>\n",
       "    </tr>\n",
       "    <tr>\n",
       "      <th>5</th>\n",
       "      <td>1</td>\n",
       "      <td>6</td>\n",
       "      <td>10</td>\n",
       "    </tr>\n",
       "    <tr>\n",
       "      <th>6</th>\n",
       "      <td>1</td>\n",
       "      <td>7</td>\n",
       "      <td>10</td>\n",
       "    </tr>\n",
       "    <tr>\n",
       "      <th>7</th>\n",
       "      <td>1</td>\n",
       "      <td>8</td>\n",
       "      <td>10</td>\n",
       "    </tr>\n",
       "    <tr>\n",
       "      <th>8</th>\n",
       "      <td>1</td>\n",
       "      <td>9</td>\n",
       "      <td>10</td>\n",
       "    </tr>\n",
       "    <tr>\n",
       "      <th>9</th>\n",
       "      <td>1</td>\n",
       "      <td>10</td>\n",
       "      <td>10</td>\n",
       "    </tr>\n",
       "    <tr>\n",
       "      <th>10</th>\n",
       "      <td>1</td>\n",
       "      <td>1</td>\n",
       "      <td>10</td>\n",
       "    </tr>\n",
       "    <tr>\n",
       "      <th>11</th>\n",
       "      <td>1</td>\n",
       "      <td>1</td>\n",
       "      <td>10</td>\n",
       "    </tr>\n",
       "    <tr>\n",
       "      <th>12</th>\n",
       "      <td>1</td>\n",
       "      <td>2</td>\n",
       "      <td>10</td>\n",
       "    </tr>\n",
       "    <tr>\n",
       "      <th>13</th>\n",
       "      <td>1</td>\n",
       "      <td>3</td>\n",
       "      <td>10</td>\n",
       "    </tr>\n",
       "    <tr>\n",
       "      <th>14</th>\n",
       "      <td>1</td>\n",
       "      <td>4</td>\n",
       "      <td>10</td>\n",
       "    </tr>\n",
       "  </tbody>\n",
       "</table>\n",
       "</div>"
      ],
      "text/plain": [
       "   user_id  order_number  max_order\n",
       "0        1             1         10\n",
       "1        1             2         10\n",
       "2        1             3         10\n",
       "3        1             4         10\n",
       "4        1             5         10\n",
       "5        1             6         10\n",
       "6        1             7         10\n",
       "7        1             8         10\n",
       "8        1             9         10\n",
       "9        1            10         10\n",
       "10       1             1         10\n",
       "11       1             1         10\n",
       "12       1             2         10\n",
       "13       1             3         10\n",
       "14       1             4         10"
      ]
     },
     "execution_count": 28,
     "metadata": {},
     "output_type": "execute_result"
    }
   ],
   "source": [
    "# Check dataframe\n",
    "ords_prods_all.loc[ords_prods_all['user_id'] == '1', ['user_id','order_number','max_order']].head(15)"
   ]
  },
  {
   "cell_type": "code",
   "execution_count": 29,
   "id": "596d9300",
   "metadata": {},
   "outputs": [],
   "source": [
    "# Create exclusion flag for customers with less than 5 orders\n",
    "ords_prods_all.loc[ords_prods_all['max_order'] < 5, 'customer_activity'] = 'low-activity'"
   ]
  },
  {
   "cell_type": "code",
   "execution_count": 30,
   "id": "10de61c6",
   "metadata": {},
   "outputs": [],
   "source": [
    "ords_prods_all.loc[ords_prods_all['max_order'] >= 5, 'customer_activity'] = 'high-activity'"
   ]
  },
  {
   "cell_type": "code",
   "execution_count": 31,
   "id": "0204199b",
   "metadata": {},
   "outputs": [
    {
     "data": {
      "text/html": [
       "<div>\n",
       "<style scoped>\n",
       "    .dataframe tbody tr th:only-of-type {\n",
       "        vertical-align: middle;\n",
       "    }\n",
       "\n",
       "    .dataframe tbody tr th {\n",
       "        vertical-align: top;\n",
       "    }\n",
       "\n",
       "    .dataframe thead th {\n",
       "        text-align: right;\n",
       "    }\n",
       "</style>\n",
       "<table border=\"1\" class=\"dataframe\">\n",
       "  <thead>\n",
       "    <tr style=\"text-align: right;\">\n",
       "      <th></th>\n",
       "      <th>user_id</th>\n",
       "      <th>max_order</th>\n",
       "      <th>customer_activity</th>\n",
       "    </tr>\n",
       "  </thead>\n",
       "  <tbody>\n",
       "    <tr>\n",
       "      <th>0</th>\n",
       "      <td>1</td>\n",
       "      <td>10</td>\n",
       "      <td>high-activity</td>\n",
       "    </tr>\n",
       "    <tr>\n",
       "      <th>1</th>\n",
       "      <td>1</td>\n",
       "      <td>10</td>\n",
       "      <td>high-activity</td>\n",
       "    </tr>\n",
       "    <tr>\n",
       "      <th>2</th>\n",
       "      <td>1</td>\n",
       "      <td>10</td>\n",
       "      <td>high-activity</td>\n",
       "    </tr>\n",
       "    <tr>\n",
       "      <th>3</th>\n",
       "      <td>1</td>\n",
       "      <td>10</td>\n",
       "      <td>high-activity</td>\n",
       "    </tr>\n",
       "    <tr>\n",
       "      <th>4</th>\n",
       "      <td>1</td>\n",
       "      <td>10</td>\n",
       "      <td>high-activity</td>\n",
       "    </tr>\n",
       "  </tbody>\n",
       "</table>\n",
       "</div>"
      ],
      "text/plain": [
       "  user_id  max_order customer_activity\n",
       "0       1         10     high-activity\n",
       "1       1         10     high-activity\n",
       "2       1         10     high-activity\n",
       "3       1         10     high-activity\n",
       "4       1         10     high-activity"
      ]
     },
     "execution_count": 31,
     "metadata": {},
     "output_type": "execute_result"
    }
   ],
   "source": [
    "# Check new column 'customer_activity'\n",
    "ords_prods_all[['user_id','max_order','customer_activity']].head()"
   ]
  },
  {
   "cell_type": "code",
   "execution_count": 32,
   "id": "bfc0ee91",
   "metadata": {},
   "outputs": [
    {
     "data": {
      "text/plain": [
       "customer_activity\n",
       "high-activity    30964564\n",
       "low-activity      1440295\n",
       "Name: count, dtype: int64"
      ]
     },
     "execution_count": 32,
     "metadata": {},
     "output_type": "execute_result"
    }
   ],
   "source": [
    "# Check via value count\n",
    "ords_prods_all['customer_activity'].value_counts(dropna = False)"
   ]
  },
  {
   "cell_type": "code",
   "execution_count": 33,
   "id": "7de891db",
   "metadata": {},
   "outputs": [],
   "source": [
    "# Create sample with high-activity customers only\n",
    "ords_prods_high_activity = ords_prods_all.loc[ords_prods_all['customer_activity'] == 'high-activity']"
   ]
  },
  {
   "cell_type": "code",
   "execution_count": 34,
   "id": "db3ec053",
   "metadata": {},
   "outputs": [
    {
     "data": {
      "text/plain": [
       "(30964564, 33)"
      ]
     },
     "execution_count": 34,
     "metadata": {},
     "output_type": "execute_result"
    }
   ],
   "source": [
    "# Check new dataframe\n",
    "ords_prods_high_activity.shape"
   ]
  },
  {
   "cell_type": "code",
   "execution_count": 35,
   "id": "bf73dc4e",
   "metadata": {},
   "outputs": [
    {
     "data": {
      "text/plain": [
       "order_id                           object\n",
       "user_id                            object\n",
       "order_number                        int64\n",
       "order_day_of_week                   int64\n",
       "order_hour_of_day                   int64\n",
       "days_since_prior_order            float64\n",
       "product_id                         object\n",
       "add_to_cart_order                   int64\n",
       "reordered                           int64\n",
       "product_name                       object\n",
       "aisle_id                           object\n",
       "department_id                      object\n",
       "prices                            float64\n",
       "busiest_day                        object\n",
       "busiest_days                       object\n",
       "busiest_period_of_day              object\n",
       "max_order                           int64\n",
       "loyalty_flag                       object\n",
       "mean_product_price                float64\n",
       "spending_flag                      object\n",
       "median_days_since_prior_order     float64\n",
       "order_frequency_flag               object\n",
       "gender                             object\n",
       "state                              object\n",
       "age                                 int64\n",
       "date_joined                        object\n",
       "n_dependants                        int64\n",
       "fam_status                         object\n",
       "income                              int64\n",
       "department                         object\n",
       "_merge                           category\n",
       "region                             object\n",
       "customer_activity                  object\n",
       "dtype: object"
      ]
     },
     "execution_count": 35,
     "metadata": {},
     "output_type": "execute_result"
    }
   ],
   "source": [
    "ords_prods_high_activity.dtypes"
   ]
  },
  {
   "cell_type": "code",
   "execution_count": 36,
   "id": "9ff89d1d",
   "metadata": {},
   "outputs": [],
   "source": [
    "# Export ords_prods_high_activity to pkl\n",
    "ords_prods_high_activity.to_pickle(os.path.join(path, '02 Data','Prepared Data', 'orders_products_all.pkl'))"
   ]
  }
 ],
 "metadata": {
  "kernelspec": {
   "display_name": "Python 3 (ipykernel)",
   "language": "python",
   "name": "python3"
  },
  "language_info": {
   "codemirror_mode": {
    "name": "ipython",
    "version": 3
   },
   "file_extension": ".py",
   "mimetype": "text/x-python",
   "name": "python",
   "nbconvert_exporter": "python",
   "pygments_lexer": "ipython3",
   "version": "3.11.5"
  }
 },
 "nbformat": 4,
 "nbformat_minor": 5
}
