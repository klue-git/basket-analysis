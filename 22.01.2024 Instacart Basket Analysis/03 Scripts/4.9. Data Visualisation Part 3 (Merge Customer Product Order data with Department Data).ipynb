{
 "cells": [
  {
   "cell_type": "markdown",
   "id": "5c4166ef",
   "metadata": {},
   "source": [
    "# 00. Table of Content\n",
    "### 01. Importing Libraries & Dataframes\n",
    "### 02. Merge Dataframes\n",
    "### 03. Exporting Dataframes"
   ]
  },
  {
   "cell_type": "markdown",
   "id": "eef8b600",
   "metadata": {},
   "source": [
    "# 01. Importing Libraries & Dataframes"
   ]
  },
  {
   "cell_type": "code",
   "execution_count": 1,
   "id": "9baa979b",
   "metadata": {},
   "outputs": [],
   "source": [
    "import pandas as pd\n",
    "import numpy as np\n",
    "import os\n",
    "import matplotlib.pyplot as plt\n",
    "import seaborn as sns\n",
    "import scipy"
   ]
  },
  {
   "cell_type": "code",
   "execution_count": 2,
   "id": "c94d4b52",
   "metadata": {},
   "outputs": [],
   "source": [
    "# Create path\n",
    "path = r'C:\\Users\\krist\\22.01.2024 Instacart Basket Analysis'"
   ]
  },
  {
   "cell_type": "code",
   "execution_count": 3,
   "id": "e403738c",
   "metadata": {},
   "outputs": [],
   "source": [
    "# Import ords_prods_merge dataframe\n",
    "ords_prods_all = pd.read_pickle(os.path.join(path, '02 Data', 'Prepared Data', 'orders_products_all.pkl'))"
   ]
  },
  {
   "cell_type": "code",
   "execution_count": 4,
   "id": "5cb6a636",
   "metadata": {},
   "outputs": [],
   "source": [
    "# Import department data\n",
    "departments = pd.read_pickle(os.path.join(path, '02 Data', 'Prepared Data', 'departments_wrangled.pkl'))"
   ]
  },
  {
   "cell_type": "markdown",
   "id": "2f3d2fd6",
   "metadata": {},
   "source": [
    "# 02. Merge Dataframes"
   ]
  },
  {
   "cell_type": "code",
   "execution_count": 5,
   "id": "91f2e366",
   "metadata": {},
   "outputs": [
    {
     "data": {
      "text/plain": [
       "order_id                          object\n",
       "user_id                           object\n",
       "order_number                       int64\n",
       "order_day_of_week                  int64\n",
       "order_hour_of_day                  int64\n",
       "days_since_prior_order           float64\n",
       "product_id                        object\n",
       "add_to_cart_order                  int64\n",
       "reordered                          int64\n",
       "product_name                      object\n",
       "aisle_id                          object\n",
       "department_id                     object\n",
       "prices                           float64\n",
       "busiest_day                       object\n",
       "busiest_days                      object\n",
       "busiest_period_of_day             object\n",
       "max_order                          int64\n",
       "loyalty_flag                      object\n",
       "mean_product_price               float64\n",
       "spending_flag                     object\n",
       "median_days_since_prior_order    float64\n",
       "order_frequency_flag              object\n",
       "first_name                        object\n",
       "last_name                         object\n",
       "gender                            object\n",
       "state                             object\n",
       "age                                int64\n",
       "date_joined                       object\n",
       "n_dependants                       int64\n",
       "fam_status                        object\n",
       "income                             int64\n",
       "dtype: object"
      ]
     },
     "execution_count": 5,
     "metadata": {},
     "output_type": "execute_result"
    }
   ],
   "source": [
    "# Check datatypes\n",
    "ords_prods_all.dtypes"
   ]
  },
  {
   "cell_type": "code",
   "execution_count": 6,
   "id": "2560b9ea",
   "metadata": {},
   "outputs": [
    {
     "data": {
      "text/plain": [
       "department_id    object\n",
       "department       object\n",
       "dtype: object"
      ]
     },
     "execution_count": 6,
     "metadata": {},
     "output_type": "execute_result"
    }
   ],
   "source": [
    "departments.dtypes"
   ]
  },
  {
   "cell_type": "code",
   "execution_count": 7,
   "id": "be6b39bd",
   "metadata": {},
   "outputs": [
    {
     "data": {
      "text/html": [
       "<div>\n",
       "<style scoped>\n",
       "    .dataframe tbody tr th:only-of-type {\n",
       "        vertical-align: middle;\n",
       "    }\n",
       "\n",
       "    .dataframe tbody tr th {\n",
       "        vertical-align: top;\n",
       "    }\n",
       "\n",
       "    .dataframe thead th {\n",
       "        text-align: right;\n",
       "    }\n",
       "</style>\n",
       "<table border=\"1\" class=\"dataframe\">\n",
       "  <thead>\n",
       "    <tr style=\"text-align: right;\">\n",
       "      <th></th>\n",
       "      <th>department_id</th>\n",
       "      <th>department</th>\n",
       "    </tr>\n",
       "  </thead>\n",
       "  <tbody>\n",
       "    <tr>\n",
       "      <th>0</th>\n",
       "      <td>1</td>\n",
       "      <td>frozen</td>\n",
       "    </tr>\n",
       "    <tr>\n",
       "      <th>1</th>\n",
       "      <td>2</td>\n",
       "      <td>other</td>\n",
       "    </tr>\n",
       "    <tr>\n",
       "      <th>2</th>\n",
       "      <td>3</td>\n",
       "      <td>bakery</td>\n",
       "    </tr>\n",
       "    <tr>\n",
       "      <th>3</th>\n",
       "      <td>4</td>\n",
       "      <td>produce</td>\n",
       "    </tr>\n",
       "    <tr>\n",
       "      <th>4</th>\n",
       "      <td>5</td>\n",
       "      <td>alcohol</td>\n",
       "    </tr>\n",
       "    <tr>\n",
       "      <th>5</th>\n",
       "      <td>6</td>\n",
       "      <td>international</td>\n",
       "    </tr>\n",
       "    <tr>\n",
       "      <th>6</th>\n",
       "      <td>7</td>\n",
       "      <td>beverages</td>\n",
       "    </tr>\n",
       "    <tr>\n",
       "      <th>7</th>\n",
       "      <td>8</td>\n",
       "      <td>pets</td>\n",
       "    </tr>\n",
       "    <tr>\n",
       "      <th>8</th>\n",
       "      <td>9</td>\n",
       "      <td>dry goods pasta</td>\n",
       "    </tr>\n",
       "    <tr>\n",
       "      <th>9</th>\n",
       "      <td>10</td>\n",
       "      <td>bulk</td>\n",
       "    </tr>\n",
       "    <tr>\n",
       "      <th>10</th>\n",
       "      <td>11</td>\n",
       "      <td>personal care</td>\n",
       "    </tr>\n",
       "    <tr>\n",
       "      <th>11</th>\n",
       "      <td>12</td>\n",
       "      <td>meat seafood</td>\n",
       "    </tr>\n",
       "    <tr>\n",
       "      <th>12</th>\n",
       "      <td>13</td>\n",
       "      <td>pantry</td>\n",
       "    </tr>\n",
       "    <tr>\n",
       "      <th>13</th>\n",
       "      <td>14</td>\n",
       "      <td>breakfast</td>\n",
       "    </tr>\n",
       "    <tr>\n",
       "      <th>14</th>\n",
       "      <td>15</td>\n",
       "      <td>canned goods</td>\n",
       "    </tr>\n",
       "    <tr>\n",
       "      <th>15</th>\n",
       "      <td>16</td>\n",
       "      <td>dairy eggs</td>\n",
       "    </tr>\n",
       "    <tr>\n",
       "      <th>16</th>\n",
       "      <td>17</td>\n",
       "      <td>household</td>\n",
       "    </tr>\n",
       "    <tr>\n",
       "      <th>17</th>\n",
       "      <td>18</td>\n",
       "      <td>babies</td>\n",
       "    </tr>\n",
       "    <tr>\n",
       "      <th>18</th>\n",
       "      <td>19</td>\n",
       "      <td>snacks</td>\n",
       "    </tr>\n",
       "    <tr>\n",
       "      <th>19</th>\n",
       "      <td>20</td>\n",
       "      <td>deli</td>\n",
       "    </tr>\n",
       "    <tr>\n",
       "      <th>20</th>\n",
       "      <td>21</td>\n",
       "      <td>missing</td>\n",
       "    </tr>\n",
       "  </tbody>\n",
       "</table>\n",
       "</div>"
      ],
      "text/plain": [
       "   department_id       department\n",
       "0              1           frozen\n",
       "1              2            other\n",
       "2              3           bakery\n",
       "3              4          produce\n",
       "4              5          alcohol\n",
       "5              6    international\n",
       "6              7        beverages\n",
       "7              8             pets\n",
       "8              9  dry goods pasta\n",
       "9             10             bulk\n",
       "10            11    personal care\n",
       "11            12     meat seafood\n",
       "12            13           pantry\n",
       "13            14        breakfast\n",
       "14            15     canned goods\n",
       "15            16       dairy eggs\n",
       "16            17        household\n",
       "17            18           babies\n",
       "18            19           snacks\n",
       "19            20             deli\n",
       "20            21          missing"
      ]
     },
     "execution_count": 7,
     "metadata": {},
     "output_type": "execute_result"
    }
   ],
   "source": [
    "departments"
   ]
  },
  {
   "cell_type": "code",
   "execution_count": 8,
   "id": "421a081a",
   "metadata": {},
   "outputs": [],
   "source": [
    "# Merge dataframes\n",
    "df_merge = ords_prods_all.merge(departments, on = ['department_id'], how = 'left', indicator = True)"
   ]
  },
  {
   "cell_type": "code",
   "execution_count": 9,
   "id": "210f0758",
   "metadata": {},
   "outputs": [
    {
     "data": {
      "text/plain": [
       "order_id                           object\n",
       "user_id                            object\n",
       "order_number                        int64\n",
       "order_day_of_week                   int64\n",
       "order_hour_of_day                   int64\n",
       "days_since_prior_order            float64\n",
       "product_id                         object\n",
       "add_to_cart_order                   int64\n",
       "reordered                           int64\n",
       "product_name                       object\n",
       "aisle_id                           object\n",
       "department_id                      object\n",
       "prices                            float64\n",
       "busiest_day                        object\n",
       "busiest_days                       object\n",
       "busiest_period_of_day              object\n",
       "max_order                           int64\n",
       "loyalty_flag                       object\n",
       "mean_product_price                float64\n",
       "spending_flag                      object\n",
       "median_days_since_prior_order     float64\n",
       "order_frequency_flag               object\n",
       "first_name                         object\n",
       "last_name                          object\n",
       "gender                             object\n",
       "state                              object\n",
       "age                                 int64\n",
       "date_joined                        object\n",
       "n_dependants                        int64\n",
       "fam_status                         object\n",
       "income                              int64\n",
       "department                         object\n",
       "_merge                           category\n",
       "dtype: object"
      ]
     },
     "execution_count": 9,
     "metadata": {},
     "output_type": "execute_result"
    }
   ],
   "source": [
    "df_merge.dtypes"
   ]
  },
  {
   "cell_type": "code",
   "execution_count": 11,
   "id": "49924abe",
   "metadata": {},
   "outputs": [
    {
     "data": {
      "text/plain": [
       "_merge\n",
       "both          32404859\n",
       "left_only            0\n",
       "right_only           0\n",
       "Name: count, dtype: int64"
      ]
     },
     "execution_count": 11,
     "metadata": {},
     "output_type": "execute_result"
    }
   ],
   "source": [
    "# Check Merge\n",
    "df_merge['_merge'].value_counts(dropna = False)"
   ]
  },
  {
   "cell_type": "code",
   "execution_count": 12,
   "id": "54ddb710",
   "metadata": {},
   "outputs": [
    {
     "data": {
      "text/html": [
       "<div>\n",
       "<style scoped>\n",
       "    .dataframe tbody tr th:only-of-type {\n",
       "        vertical-align: middle;\n",
       "    }\n",
       "\n",
       "    .dataframe tbody tr th {\n",
       "        vertical-align: top;\n",
       "    }\n",
       "\n",
       "    .dataframe thead th {\n",
       "        text-align: right;\n",
       "    }\n",
       "</style>\n",
       "<table border=\"1\" class=\"dataframe\">\n",
       "  <thead>\n",
       "    <tr style=\"text-align: right;\">\n",
       "      <th></th>\n",
       "      <th>order_id</th>\n",
       "      <th>user_id</th>\n",
       "      <th>order_number</th>\n",
       "      <th>order_day_of_week</th>\n",
       "      <th>order_hour_of_day</th>\n",
       "      <th>days_since_prior_order</th>\n",
       "      <th>product_id</th>\n",
       "      <th>add_to_cart_order</th>\n",
       "      <th>reordered</th>\n",
       "      <th>product_name</th>\n",
       "      <th>...</th>\n",
       "      <th>last_name</th>\n",
       "      <th>gender</th>\n",
       "      <th>state</th>\n",
       "      <th>age</th>\n",
       "      <th>date_joined</th>\n",
       "      <th>n_dependants</th>\n",
       "      <th>fam_status</th>\n",
       "      <th>income</th>\n",
       "      <th>department</th>\n",
       "      <th>_merge</th>\n",
       "    </tr>\n",
       "  </thead>\n",
       "  <tbody>\n",
       "    <tr>\n",
       "      <th>0</th>\n",
       "      <td>2539329</td>\n",
       "      <td>1</td>\n",
       "      <td>1</td>\n",
       "      <td>2</td>\n",
       "      <td>8</td>\n",
       "      <td>NaN</td>\n",
       "      <td>196</td>\n",
       "      <td>1</td>\n",
       "      <td>0</td>\n",
       "      <td>Soda</td>\n",
       "      <td>...</td>\n",
       "      <td>Nguyen</td>\n",
       "      <td>Female</td>\n",
       "      <td>Alabama</td>\n",
       "      <td>31</td>\n",
       "      <td>2/17/2019</td>\n",
       "      <td>3</td>\n",
       "      <td>married</td>\n",
       "      <td>40423</td>\n",
       "      <td>beverages</td>\n",
       "      <td>both</td>\n",
       "    </tr>\n",
       "    <tr>\n",
       "      <th>1</th>\n",
       "      <td>2398795</td>\n",
       "      <td>1</td>\n",
       "      <td>2</td>\n",
       "      <td>3</td>\n",
       "      <td>7</td>\n",
       "      <td>15.0</td>\n",
       "      <td>196</td>\n",
       "      <td>1</td>\n",
       "      <td>1</td>\n",
       "      <td>Soda</td>\n",
       "      <td>...</td>\n",
       "      <td>Nguyen</td>\n",
       "      <td>Female</td>\n",
       "      <td>Alabama</td>\n",
       "      <td>31</td>\n",
       "      <td>2/17/2019</td>\n",
       "      <td>3</td>\n",
       "      <td>married</td>\n",
       "      <td>40423</td>\n",
       "      <td>beverages</td>\n",
       "      <td>both</td>\n",
       "    </tr>\n",
       "    <tr>\n",
       "      <th>2</th>\n",
       "      <td>473747</td>\n",
       "      <td>1</td>\n",
       "      <td>3</td>\n",
       "      <td>3</td>\n",
       "      <td>12</td>\n",
       "      <td>21.0</td>\n",
       "      <td>196</td>\n",
       "      <td>1</td>\n",
       "      <td>1</td>\n",
       "      <td>Soda</td>\n",
       "      <td>...</td>\n",
       "      <td>Nguyen</td>\n",
       "      <td>Female</td>\n",
       "      <td>Alabama</td>\n",
       "      <td>31</td>\n",
       "      <td>2/17/2019</td>\n",
       "      <td>3</td>\n",
       "      <td>married</td>\n",
       "      <td>40423</td>\n",
       "      <td>beverages</td>\n",
       "      <td>both</td>\n",
       "    </tr>\n",
       "    <tr>\n",
       "      <th>3</th>\n",
       "      <td>2254736</td>\n",
       "      <td>1</td>\n",
       "      <td>4</td>\n",
       "      <td>4</td>\n",
       "      <td>7</td>\n",
       "      <td>29.0</td>\n",
       "      <td>196</td>\n",
       "      <td>1</td>\n",
       "      <td>1</td>\n",
       "      <td>Soda</td>\n",
       "      <td>...</td>\n",
       "      <td>Nguyen</td>\n",
       "      <td>Female</td>\n",
       "      <td>Alabama</td>\n",
       "      <td>31</td>\n",
       "      <td>2/17/2019</td>\n",
       "      <td>3</td>\n",
       "      <td>married</td>\n",
       "      <td>40423</td>\n",
       "      <td>beverages</td>\n",
       "      <td>both</td>\n",
       "    </tr>\n",
       "    <tr>\n",
       "      <th>4</th>\n",
       "      <td>431534</td>\n",
       "      <td>1</td>\n",
       "      <td>5</td>\n",
       "      <td>4</td>\n",
       "      <td>15</td>\n",
       "      <td>28.0</td>\n",
       "      <td>196</td>\n",
       "      <td>1</td>\n",
       "      <td>1</td>\n",
       "      <td>Soda</td>\n",
       "      <td>...</td>\n",
       "      <td>Nguyen</td>\n",
       "      <td>Female</td>\n",
       "      <td>Alabama</td>\n",
       "      <td>31</td>\n",
       "      <td>2/17/2019</td>\n",
       "      <td>3</td>\n",
       "      <td>married</td>\n",
       "      <td>40423</td>\n",
       "      <td>beverages</td>\n",
       "      <td>both</td>\n",
       "    </tr>\n",
       "  </tbody>\n",
       "</table>\n",
       "<p>5 rows × 33 columns</p>\n",
       "</div>"
      ],
      "text/plain": [
       "  order_id user_id  order_number  order_day_of_week  order_hour_of_day  \\\n",
       "0  2539329       1             1                  2                  8   \n",
       "1  2398795       1             2                  3                  7   \n",
       "2   473747       1             3                  3                 12   \n",
       "3  2254736       1             4                  4                  7   \n",
       "4   431534       1             5                  4                 15   \n",
       "\n",
       "   days_since_prior_order product_id  add_to_cart_order  reordered  \\\n",
       "0                     NaN        196                  1          0   \n",
       "1                    15.0        196                  1          1   \n",
       "2                    21.0        196                  1          1   \n",
       "3                    29.0        196                  1          1   \n",
       "4                    28.0        196                  1          1   \n",
       "\n",
       "  product_name  ... last_name  gender    state age date_joined n_dependants  \\\n",
       "0         Soda  ...    Nguyen  Female  Alabama  31   2/17/2019            3   \n",
       "1         Soda  ...    Nguyen  Female  Alabama  31   2/17/2019            3   \n",
       "2         Soda  ...    Nguyen  Female  Alabama  31   2/17/2019            3   \n",
       "3         Soda  ...    Nguyen  Female  Alabama  31   2/17/2019            3   \n",
       "4         Soda  ...    Nguyen  Female  Alabama  31   2/17/2019            3   \n",
       "\n",
       "   fam_status income  department _merge  \n",
       "0     married  40423   beverages   both  \n",
       "1     married  40423   beverages   both  \n",
       "2     married  40423   beverages   both  \n",
       "3     married  40423   beverages   both  \n",
       "4     married  40423   beverages   both  \n",
       "\n",
       "[5 rows x 33 columns]"
      ]
     },
     "execution_count": 12,
     "metadata": {},
     "output_type": "execute_result"
    }
   ],
   "source": [
    "df_merge.head()"
   ]
  },
  {
   "cell_type": "markdown",
   "id": "a6a47eb3",
   "metadata": {},
   "source": [
    "# 03. Exporting Dataframes"
   ]
  },
  {
   "cell_type": "code",
   "execution_count": 13,
   "id": "b475c349",
   "metadata": {},
   "outputs": [],
   "source": [
    "# Export data to pkl\n",
    "df_merge.to_pickle(os.path.join(path, '02 Data','Prepared Data', 'orders_products_all.pkl'))"
   ]
  },
  {
   "cell_type": "code",
   "execution_count": 15,
   "id": "8790dabc",
   "metadata": {},
   "outputs": [
    {
     "data": {
      "text/plain": [
       "(32404859, 33)"
      ]
     },
     "execution_count": 15,
     "metadata": {},
     "output_type": "execute_result"
    }
   ],
   "source": [
    "df_merge.shape"
   ]
  },
  {
   "cell_type": "code",
   "execution_count": 16,
   "id": "35c545b1",
   "metadata": {},
   "outputs": [
    {
     "data": {
      "text/plain": [
       "(32404859, 31)"
      ]
     },
     "execution_count": 16,
     "metadata": {},
     "output_type": "execute_result"
    }
   ],
   "source": [
    "ords_prods_all.shape"
   ]
  },
  {
   "cell_type": "code",
   "execution_count": null,
   "id": "a8648c18",
   "metadata": {},
   "outputs": [],
   "source": []
  }
 ],
 "metadata": {
  "kernelspec": {
   "display_name": "Python 3 (ipykernel)",
   "language": "python",
   "name": "python3"
  },
  "language_info": {
   "codemirror_mode": {
    "name": "ipython",
    "version": 3
   },
   "file_extension": ".py",
   "mimetype": "text/x-python",
   "name": "python",
   "nbconvert_exporter": "python",
   "pygments_lexer": "ipython3",
   "version": "3.11.5"
  }
 },
 "nbformat": 4,
 "nbformat_minor": 5
}
